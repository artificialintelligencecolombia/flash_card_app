{
 "cells": [
  {
   "cell_type": "code",
   "execution_count": 7,
   "metadata": {},
   "outputs": [],
   "source": [
    "from tkinter import *\n",
    "import pandas as pd\n",
    "import random\n",
    "import time"
   ]
  },
  {
   "cell_type": "code",
   "execution_count": 8,
   "metadata": {},
   "outputs": [],
   "source": [
    "BG_COLOR = \"#B1DDC6\"\n",
    "FILE_PATH = './data/cleaned_data.xlsx'\n",
    "current_card = {} # Define card instance to be used in functions"
   ]
  },
  {
   "cell_type": "code",
   "execution_count": 9,
   "metadata": {},
   "outputs": [],
   "source": [
    "df = pd.read_excel(FILE_PATH, nrows=1000)\n",
    "dict = df.to_dict(orient='records')\n",
    "# TEST: print(dict)"
   ]
  },
  {
   "cell_type": "code",
   "execution_count": null,
   "metadata": {},
   "outputs": [],
   "source": [
    "def pick_word() -> None:\n",
    "    global current_card\n",
    "    current_card = random.choice(dict)\n",
    "    canvas.itemconfig(language_title, text=list(current_card.keys())[0], fill='black')\n",
    "    canvas.itemconfig(word_text, text=current_card['russian'], fill='black')\n",
    "    canvas.itemconfig(card_background, image=front_card_img)\n"
   ]
  },
  {
   "cell_type": "code",
   "execution_count": 14,
   "metadata": {},
   "outputs": [],
   "source": [
    "def flip_card():\n",
    "    canvas.itemconfig(language_title, text=list(current_card.keys())[1], fill='white')\n",
    "    canvas.itemconfig(word_text, text=current_card['english'], fill='white')\n",
    "    canvas.itemconfig(card_background, image=back_card_img)\n",
    "    \n",
    "    "
   ]
  },
  {
   "cell_type": "code",
   "execution_count": 15,
   "metadata": {},
   "outputs": [],
   "source": [
    "root = Tk()\n",
    "root.title(\"Flash Card Game - Russian Words!\")\n",
    "root.config(padx=50, pady=50, bg=BG_COLOR)\n",
    "\n",
    "root.after(3000, flip_card)\n",
    "\n",
    "# Canvas storage for image\n",
    "canvas = Canvas(width=800, height=526)  # Creates the canvas with specified dimensions \n",
    "front_card_img = PhotoImage(file=\"images/card_front.png\")  # Loads the lock image from a file\n",
    "back_card_img = PhotoImage(file='images/card_back.png')\n",
    "\n",
    "card_background = canvas.create_image(400, 263, image=front_card_img)  # Places the image at the center of the canvas\n",
    "\n",
    "language_title = canvas.create_text(400, 150, text=\"\", font=(\"Ariel\", 30, \"italic\"))\n",
    "word_text = canvas.create_text(400, 263, text=\"\", font=(\"Ariel\", 40, \"bold\"))\n",
    "\n",
    "canvas.config(bg=BG_COLOR, highlightthickness=0) \n",
    "canvas.grid(row=0, column=0, columnspan=2) \n",
    "\n",
    "# Buttons\n",
    "correct_img = PhotoImage(file=\"images/right.png\")\n",
    "incorrect_img = PhotoImage(file=\"images/wrong.png\")\n",
    "\n",
    "# Create Button instances separately, then grid them\n",
    "correct_btn = Button(root, image=correct_img, highlightthickness=0, command=pick_word)\n",
    "correct_btn.grid(row=1, column=0)\n",
    "\n",
    "\n",
    "\n",
    "incorrect_btn = Button(root, image=incorrect_img, highlightthickness=0, command=pick_word)\n",
    "incorrect_btn.grid(row=1, column=1)\n",
    "\n",
    "pick_word() # Here we call the function in order to pick a word inmediately after the GUI is created\n",
    "\n",
    "root.mainloop()"
   ]
  },
  {
   "cell_type": "code",
   "execution_count": null,
   "metadata": {},
   "outputs": [],
   "source": []
  }
 ],
 "metadata": {
  "kernelspec": {
   "display_name": "Python 3",
   "language": "python",
   "name": "python3"
  },
  "language_info": {
   "codemirror_mode": {
    "name": "ipython",
    "version": 3
   },
   "file_extension": ".py",
   "mimetype": "text/x-python",
   "name": "python",
   "nbconvert_exporter": "python",
   "pygments_lexer": "ipython3",
   "version": "3.12.3"
  }
 },
 "nbformat": 4,
 "nbformat_minor": 2
}
