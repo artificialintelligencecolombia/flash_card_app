{
 "cells": [
  {
   "cell_type": "code",
   "execution_count": 51,
   "metadata": {},
   "outputs": [],
   "source": [
    "from tkinter import *"
   ]
  },
  {
   "cell_type": "code",
   "execution_count": 55,
   "metadata": {},
   "outputs": [],
   "source": [
    "root = Tk()\n",
    "root.title(\"Flash Card Game - Russian Words!\")\n",
    "root.config(padx=50, pady=50, bg=\"#92c2af\")\n",
    "\n",
    "# Canvas storage for image\n",
    "canvas = Canvas(width=800, height=526)  # Creates the canvas with specified dimensions \n",
    "card_img = PhotoImage(file=\"images/card_front.png\")  # Loads the lock image from a file\n",
    "canvas.create_image(400, 263, image=card_img)  # Places the image at the center of the canvas\n",
    "canvas.grid(row=0, column=0, columnspan=2) \n",
    "\n",
    "\n",
    "# Buttons\n",
    "correct_img = PhotoImage(file=\"images/right.png\")\n",
    "incorrect_img = PhotoImage(file=\"images/wrong.png\")\n",
    "\n",
    "# Create Button instances separately, then grid them\n",
    "correct_btn = Button(root, image=correct_img)\n",
    "correct_btn.grid(row=1, column=0)\n",
    "\n",
    "incorrect_btn = Button(root, image=incorrect_img)\n",
    "incorrect_btn.grid(row=1, column=1)\n",
    "\n",
    "\n",
    "root.mainloop()"
   ]
  },
  {
   "cell_type": "code",
   "execution_count": null,
   "metadata": {},
   "outputs": [],
   "source": []
  }
 ],
 "metadata": {
  "kernelspec": {
   "display_name": "Python 3",
   "language": "python",
   "name": "python3"
  },
  "language_info": {
   "codemirror_mode": {
    "name": "ipython",
    "version": 3
   },
   "file_extension": ".py",
   "mimetype": "text/x-python",
   "name": "python",
   "nbconvert_exporter": "python",
   "pygments_lexer": "ipython3",
   "version": "3.12.3"
  }
 },
 "nbformat": 4,
 "nbformat_minor": 2
}
