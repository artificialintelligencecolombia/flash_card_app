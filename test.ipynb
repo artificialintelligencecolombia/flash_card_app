{
 "cells": [
  {
   "cell_type": "code",
   "execution_count": 22,
   "metadata": {},
   "outputs": [],
   "source": [
    "from tkinter import *\n",
    "import pandas as pd\n",
    "import random"
   ]
  },
  {
   "cell_type": "code",
   "execution_count": 3,
   "metadata": {},
   "outputs": [],
   "source": [
    "BG_COLOR = \"#B1DDC6\"\n",
    "FILE_PATH = './data/cleaned_data.xlsx'"
   ]
  },
  {
   "cell_type": "code",
   "execution_count": null,
   "metadata": {},
   "outputs": [
    {
     "ename": "IndexError",
     "evalue": "list index out of range",
     "output_type": "error",
     "traceback": [
      "\u001b[1;31m---------------------------------------------------------------------------\u001b[0m",
      "\u001b[1;31mIndexError\u001b[0m                                Traceback (most recent call last)",
      "Cell \u001b[1;32mIn[61], line 3\u001b[0m\n\u001b[0;32m      1\u001b[0m df \u001b[38;5;241m=\u001b[39m pd\u001b[38;5;241m.\u001b[39mread_excel(FILE_PATH, nrows\u001b[38;5;241m=\u001b[39m\u001b[38;5;241m1000\u001b[39m)\n\u001b[0;32m      2\u001b[0m \u001b[38;5;28mdict\u001b[39m \u001b[38;5;241m=\u001b[39m df\u001b[38;5;241m.\u001b[39mto_dict(orient\u001b[38;5;241m=\u001b[39m\u001b[38;5;124m'\u001b[39m\u001b[38;5;124mrecords\u001b[39m\u001b[38;5;124m'\u001b[39m)\n\u001b[1;32m----> 3\u001b[0m \u001b[38;5;28mprint\u001b[39m(\u001b[38;5;28;43mdict\u001b[39;49m\u001b[43m[\u001b[49m\u001b[38;5;241;43m1000\u001b[39;49m\u001b[43m]\u001b[49m)\n",
      "\u001b[1;31mIndexError\u001b[0m: list index out of range"
     ]
    }
   ],
   "source": [
    "df = pd.read_excel(FILE_PATH, nrows=1000)\n",
    "dict = df.to_dict(orient='records')"
   ]
  },
  {
   "cell_type": "code",
   "execution_count": 53,
   "metadata": {},
   "outputs": [],
   "source": [
    "def pick_word():\n",
    "    random_word = random.choice(dict)[\"russian\"]\n",
    "    canvas.itemconfig(word_text, text=random_word)\n"
   ]
  },
  {
   "cell_type": "code",
   "execution_count": 55,
   "metadata": {},
   "outputs": [],
   "source": [
    "root = Tk()\n",
    "root.title(\"Flash Card Game - Russian Words!\")\n",
    "root.config(padx=50, pady=50, bg=BG_COLOR)\n",
    "\n",
    "# Canvas storage for image\n",
    "canvas = Canvas(width=800, height=526)  # Creates the canvas with specified dimensions \n",
    "card_img = PhotoImage(file=\"images/card_front.png\")  # Loads the lock image from a file\n",
    "canvas.create_image(400, 263, image=card_img)  # Places the image at the center of the canvas\n",
    "\n",
    "language_text = canvas.create_text(400, 150, text=\"Lang\", font=(\"Ariel\", 30, \"italic\"))\n",
    "word_text = canvas.create_text(400, 263, text=\"Word\", font=(\"Ariel\", 40, \"bold\"))\n",
    "\n",
    "canvas.config(bg=BG_COLOR, highlightthickness=0) \n",
    "canvas.grid(row=0, column=0, columnspan=2) \n",
    "\n",
    "# Buttons\n",
    "correct_img = PhotoImage(file=\"images/right.png\")\n",
    "incorrect_img = PhotoImage(file=\"images/wrong.png\")\n",
    "\n",
    "# Create Button instances separately, then grid them\n",
    "correct_btn = Button(root, image=correct_img, highlightthickness=0, command=pick_word)\n",
    "correct_btn.grid(row=1, column=0)\n",
    "\n",
    "incorrect_btn = Button(root, image=incorrect_img, highlightthickness=0, command=pick_word)\n",
    "incorrect_btn.grid(row=1, column=1)\n",
    "\n",
    "\n",
    "root.mainloop()"
   ]
  },
  {
   "cell_type": "code",
   "execution_count": null,
   "metadata": {},
   "outputs": [],
   "source": []
  }
 ],
 "metadata": {
  "kernelspec": {
   "display_name": "Python 3",
   "language": "python",
   "name": "python3"
  },
  "language_info": {
   "codemirror_mode": {
    "name": "ipython",
    "version": 3
   },
   "file_extension": ".py",
   "mimetype": "text/x-python",
   "name": "python",
   "nbconvert_exporter": "python",
   "pygments_lexer": "ipython3",
   "version": "3.12.3"
  }
 },
 "nbformat": 4,
 "nbformat_minor": 2
}
